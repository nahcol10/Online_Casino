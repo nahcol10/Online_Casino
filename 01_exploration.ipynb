{
 "cells": [
  {
   "cell_type": "markdown",
   "metadata": {},
   "source": [
    "## ML Project: Payment Transaction Data From Online Casino Players\n",
    "\n",
    "Dataset to download: https://raw.githubusercontent.com/nahcol10/Online_Casino/refs/heads/main/Online_casino_DIB.csv"
   ]
  },
  {
   "cell_type": "code",
   "execution_count": 47,
   "metadata": {},
   "outputs": [],
   "source": [
    "# Data management\n",
    "import pandas as pd\n",
    "import numpy as np\n",
    "pd.options.mode.chained_assignment = None  \n",
    "from datetime import datetime as dt\n",
    "\n",
    "# Visualizations\n",
    "import seaborn as sns\n",
    "import matplotlib.pyplot as plt\n",
    "import plotly.graph_objects as go\n",
    "from sklearn.preprocessing import LabelEncoder"
   ]
  },
  {
   "cell_type": "code",
   "execution_count": 48,
   "metadata": {},
   "outputs": [
    {
     "data": {
      "text/html": [
       "<div>\n",
       "<style scoped>\n",
       "    .dataframe tbody tr th:only-of-type {\n",
       "        vertical-align: middle;\n",
       "    }\n",
       "\n",
       "    .dataframe tbody tr th {\n",
       "        vertical-align: top;\n",
       "    }\n",
       "\n",
       "    .dataframe thead th {\n",
       "        text-align: right;\n",
       "    }\n",
       "</style>\n",
       "<table border=\"1\" class=\"dataframe\">\n",
       "  <thead>\n",
       "    <tr style=\"text-align: right;\">\n",
       "      <th></th>\n",
       "      <th>ReqTimeUTC</th>\n",
       "      <th>TransactionType</th>\n",
       "      <th>TransactionAmount</th>\n",
       "      <th>Status</th>\n",
       "      <th>AccountIdentifier</th>\n",
       "    </tr>\n",
       "  </thead>\n",
       "  <tbody>\n",
       "    <tr>\n",
       "      <th>0</th>\n",
       "      <td>2019-07-05T05:02:28+0000</td>\n",
       "      <td>LOYALTYCARDDEBIT</td>\n",
       "      <td>10.0</td>\n",
       "      <td>APPROVED</td>\n",
       "      <td>customer1734</td>\n",
       "    </tr>\n",
       "    <tr>\n",
       "      <th>1</th>\n",
       "      <td>2019-07-05T05:26:00+0000</td>\n",
       "      <td>LOYALTYCARDDEBIT</td>\n",
       "      <td>10.0</td>\n",
       "      <td>APPROVED</td>\n",
       "      <td>customer1734</td>\n",
       "    </tr>\n",
       "    <tr>\n",
       "      <th>2</th>\n",
       "      <td>2019-07-05T04:54:35+0000</td>\n",
       "      <td>LOYALTYCARDCREDITCL</td>\n",
       "      <td>10.0</td>\n",
       "      <td>APPROVED</td>\n",
       "      <td>customer1734</td>\n",
       "    </tr>\n",
       "    <tr>\n",
       "      <th>3</th>\n",
       "      <td>2019-07-05T05:02:27+0000</td>\n",
       "      <td>LOYALTYCARDCREDITCL</td>\n",
       "      <td>10.0</td>\n",
       "      <td>APPROVED</td>\n",
       "      <td>customer1734</td>\n",
       "    </tr>\n",
       "    <tr>\n",
       "      <th>4</th>\n",
       "      <td>2019-07-05T05:25:59+0000</td>\n",
       "      <td>LOYALTYCARDCREDITCL</td>\n",
       "      <td>10.0</td>\n",
       "      <td>APPROVED</td>\n",
       "      <td>customer1734</td>\n",
       "    </tr>\n",
       "  </tbody>\n",
       "</table>\n",
       "</div>"
      ],
      "text/plain": [
       "                 ReqTimeUTC      TransactionType  TransactionAmount    Status  \\\n",
       "0  2019-07-05T05:02:28+0000     LOYALTYCARDDEBIT               10.0  APPROVED   \n",
       "1  2019-07-05T05:26:00+0000     LOYALTYCARDDEBIT               10.0  APPROVED   \n",
       "2  2019-07-05T04:54:35+0000  LOYALTYCARDCREDITCL               10.0  APPROVED   \n",
       "3  2019-07-05T05:02:27+0000  LOYALTYCARDCREDITCL               10.0  APPROVED   \n",
       "4  2019-07-05T05:25:59+0000  LOYALTYCARDCREDITCL               10.0  APPROVED   \n",
       "\n",
       "  AccountIdentifier  \n",
       "0      customer1734  \n",
       "1      customer1734  \n",
       "2      customer1734  \n",
       "3      customer1734  \n",
       "4      customer1734  "
      ]
     },
     "execution_count": 48,
     "metadata": {},
     "output_type": "execute_result"
    }
   ],
   "source": [
    "casino = pd.read_csv(\"Online_casino_DIB.csv\")\n",
    "casino.head()"
   ]
  },
  {
   "cell_type": "code",
   "execution_count": 49,
   "metadata": {},
   "outputs": [
    {
     "data": {
      "text/plain": [
       "ReqTimeUTC            object\n",
       "TransactionType       object\n",
       "TransactionAmount    float64\n",
       "Status                object\n",
       "AccountIdentifier     object\n",
       "dtype: object"
      ]
     },
     "execution_count": 49,
     "metadata": {},
     "output_type": "execute_result"
    }
   ],
   "source": [
    "casino.dtypes"
   ]
  },
  {
   "cell_type": "code",
   "execution_count": 50,
   "metadata": {},
   "outputs": [],
   "source": [
    "#\n",
    "casino.ReqTimeUTC = pd.to_datetime(casino.ReqTimeUTC)"
   ]
  },
  {
   "cell_type": "code",
   "execution_count": 51,
   "metadata": {},
   "outputs": [
    {
     "data": {
      "text/html": [
       "<div>\n",
       "<style scoped>\n",
       "    .dataframe tbody tr th:only-of-type {\n",
       "        vertical-align: middle;\n",
       "    }\n",
       "\n",
       "    .dataframe tbody tr th {\n",
       "        vertical-align: top;\n",
       "    }\n",
       "\n",
       "    .dataframe thead th {\n",
       "        text-align: right;\n",
       "    }\n",
       "</style>\n",
       "<table border=\"1\" class=\"dataframe\">\n",
       "  <thead>\n",
       "    <tr style=\"text-align: right;\">\n",
       "      <th></th>\n",
       "      <th>ReqTimeUTC</th>\n",
       "      <th>TransactionType</th>\n",
       "      <th>Status</th>\n",
       "      <th>AccountIdentifier</th>\n",
       "    </tr>\n",
       "  </thead>\n",
       "  <tbody>\n",
       "    <tr>\n",
       "      <th>count</th>\n",
       "      <td>138928</td>\n",
       "      <td>138928</td>\n",
       "      <td>138928</td>\n",
       "      <td>138928</td>\n",
       "    </tr>\n",
       "    <tr>\n",
       "      <th>unique</th>\n",
       "      <td>NaN</td>\n",
       "      <td>3</td>\n",
       "      <td>2</td>\n",
       "      <td>2361</td>\n",
       "    </tr>\n",
       "    <tr>\n",
       "      <th>top</th>\n",
       "      <td>NaN</td>\n",
       "      <td>LOYALTYCARDDEBIT</td>\n",
       "      <td>APPROVED</td>\n",
       "      <td>customer10</td>\n",
       "    </tr>\n",
       "    <tr>\n",
       "      <th>freq</th>\n",
       "      <td>NaN</td>\n",
       "      <td>70329</td>\n",
       "      <td>133520</td>\n",
       "      <td>2318</td>\n",
       "    </tr>\n",
       "    <tr>\n",
       "      <th>mean</th>\n",
       "      <td>2019-08-23 14:37:01.511898112+00:00</td>\n",
       "      <td>NaN</td>\n",
       "      <td>NaN</td>\n",
       "      <td>NaN</td>\n",
       "    </tr>\n",
       "    <tr>\n",
       "      <th>min</th>\n",
       "      <td>2019-03-01 08:03:23+00:00</td>\n",
       "      <td>NaN</td>\n",
       "      <td>NaN</td>\n",
       "      <td>NaN</td>\n",
       "    </tr>\n",
       "    <tr>\n",
       "      <th>25%</th>\n",
       "      <td>2019-05-19 06:27:26.249999872+00:00</td>\n",
       "      <td>NaN</td>\n",
       "      <td>NaN</td>\n",
       "      <td>NaN</td>\n",
       "    </tr>\n",
       "    <tr>\n",
       "      <th>50%</th>\n",
       "      <td>2019-08-21 13:32:02.500000+00:00</td>\n",
       "      <td>NaN</td>\n",
       "      <td>NaN</td>\n",
       "      <td>NaN</td>\n",
       "    </tr>\n",
       "    <tr>\n",
       "      <th>75%</th>\n",
       "      <td>2019-11-23 20:28:33.500000+00:00</td>\n",
       "      <td>NaN</td>\n",
       "      <td>NaN</td>\n",
       "      <td>NaN</td>\n",
       "    </tr>\n",
       "    <tr>\n",
       "      <th>max</th>\n",
       "      <td>2020-03-02 07:47:06+00:00</td>\n",
       "      <td>NaN</td>\n",
       "      <td>NaN</td>\n",
       "      <td>NaN</td>\n",
       "    </tr>\n",
       "  </tbody>\n",
       "</table>\n",
       "</div>"
      ],
      "text/plain": [
       "                                 ReqTimeUTC   TransactionType    Status  \\\n",
       "count                                138928            138928    138928   \n",
       "unique                                  NaN                 3         2   \n",
       "top                                     NaN  LOYALTYCARDDEBIT  APPROVED   \n",
       "freq                                    NaN             70329    133520   \n",
       "mean    2019-08-23 14:37:01.511898112+00:00               NaN       NaN   \n",
       "min               2019-03-01 08:03:23+00:00               NaN       NaN   \n",
       "25%     2019-05-19 06:27:26.249999872+00:00               NaN       NaN   \n",
       "50%        2019-08-21 13:32:02.500000+00:00               NaN       NaN   \n",
       "75%        2019-11-23 20:28:33.500000+00:00               NaN       NaN   \n",
       "max               2020-03-02 07:47:06+00:00               NaN       NaN   \n",
       "\n",
       "       AccountIdentifier  \n",
       "count             138928  \n",
       "unique              2361  \n",
       "top           customer10  \n",
       "freq                2318  \n",
       "mean                 NaN  \n",
       "min                  NaN  \n",
       "25%                  NaN  \n",
       "50%                  NaN  \n",
       "75%                  NaN  \n",
       "max                  NaN  "
      ]
     },
     "execution_count": 51,
     "metadata": {},
     "output_type": "execute_result"
    }
   ],
   "source": [
    "casino.describe(exclude = 'float64')"
   ]
  },
  {
   "cell_type": "code",
   "execution_count": 52,
   "metadata": {},
   "outputs": [],
   "source": [
    "casino = casino[casino.ReqTimeUTC <='2020-02-29 00:00:00+00:00'].copy()"
   ]
  },
  {
   "cell_type": "code",
   "execution_count": 53,
   "metadata": {},
   "outputs": [
    {
     "data": {
      "text/plain": [
       "array(['LOYALTYCARDDEBIT', 'LOYALTYCARDCREDITCL', 'LOYALTYCARDCREDIT'],\n",
       "      dtype=object)"
      ]
     },
     "execution_count": 53,
     "metadata": {},
     "output_type": "execute_result"
    }
   ],
   "source": [
    "casino.TransactionType.unique()"
   ]
  },
  {
   "cell_type": "code",
   "execution_count": 54,
   "metadata": {},
   "outputs": [],
   "source": [
    "casino.TransactionType = casino.TransactionType.map({'LOYALTYCARDDEBIT':'L2D', 'LOYALTYCARDCREDITCL':'L1D', 'LOYALTYCARDCREDIT':'L2W'})"
   ]
  },
  {
   "cell_type": "code",
   "execution_count": 42,
   "metadata": {},
   "outputs": [
    {
     "data": {
      "text/plain": [
       "<Axes: xlabel='ReqTimeUTC', ylabel='Density'>"
      ]
     },
     "execution_count": 42,
     "metadata": {},
     "output_type": "execute_result"
    },
    {
     "data": {
      "image/png": "[encoded data removed]",
      "text/plain": [
       "<Figure size 640x480 with 1 Axes>"
      ]
     },
     "metadata": {},
     "output_type": "display_data"
    }
   ],
   "source": [
    "user_type_ = casino.groupby([\"AccountIdentifier\", \"TransactionType\"]).count().reset_index()\n",
    "# sns.histplot(data = user_type_, x=\"ReqTimeUTC\", bins=50, hue = \"TransactionType\")\n",
    "\n",
    "sns.histplot(data = user_type_, x=\"ReqTimeUTC\", hue = \"TransactionType\", cumulative = True, stat=\"density\", element=\"step\", fill=False)"
   ]
  },
  {
   "cell_type": "code",
   "execution_count": 55,
   "metadata": {},
   "outputs": [
    {
     "data": {
      "text/plain": [
       "Index(['ReqTimeUTC', 'TransactionType', 'TransactionAmount', 'Status',\n",
       "       'AccountIdentifier'],\n",
       "      dtype='object')"
      ]
     },
     "execution_count": 55,
     "metadata": {},
     "output_type": "execute_result"
    }
   ],
   "source": [
    "casino.columns"
   ]
  },
  {
   "cell_type": "code",
   "execution_count": 56,
   "metadata": {},
   "outputs": [],
   "source": [
    "casino = casino[(casino.TransactionType == \"L2D\") & (casino.Status==\"APPROVED\")].reset_index(drop=True)\n",
    "casino = casino[['AccountIdentifier', 'ReqTimeUTC', 'TransactionAmount']]\n",
    "casino = casino.sort_values([\"AccountIdentifier\", \"ReqTimeUTC\"]).reset_index(drop=True)\n",
    "casino.rename(columns = {'AccountIdentifier':'user', 'ReqTimeUTC':'timest',  'TransactionAmount':'amount'}, inplace=True)\n",
    "casino.head()"
   ]
  },
  {
   "cell_type": "code",
   "execution_count": 60,
   "metadata": {},
   "outputs": [
    {
     "data": {
      "text/html": [
       "<div>\n",
       "<style scoped>\n",
       "    .dataframe tbody tr th:only-of-type {\n",
       "        vertical-align: middle;\n",
       "    }\n",
       "\n",
       "    .dataframe tbody tr th {\n",
       "        vertical-align: top;\n",
       "    }\n",
       "\n",
       "    .dataframe thead th {\n",
       "        text-align: right;\n",
       "    }\n",
       "</style>\n",
       "<table border=\"1\" class=\"dataframe\">\n",
       "  <thead>\n",
       "    <tr style=\"text-align: right;\">\n",
       "      <th></th>\n",
       "      <th>user</th>\n",
       "      <th>timest</th>\n",
       "      <th>amount</th>\n",
       "    </tr>\n",
       "  </thead>\n",
       "  <tbody>\n",
       "    <tr>\n",
       "      <th>0</th>\n",
       "      <td>customer1</td>\n",
       "      <td>2019-03-01 17:24:43+00:00</td>\n",
       "      <td>30.0</td>\n",
       "    </tr>\n",
       "    <tr>\n",
       "      <th>1</th>\n",
       "      <td>customer1</td>\n",
       "      <td>2019-03-01 19:54:04+00:00</td>\n",
       "      <td>50.0</td>\n",
       "    </tr>\n",
       "    <tr>\n",
       "      <th>2</th>\n",
       "      <td>customer1</td>\n",
       "      <td>2019-03-01 22:44:15+00:00</td>\n",
       "      <td>40.0</td>\n",
       "    </tr>\n",
       "    <tr>\n",
       "      <th>3</th>\n",
       "      <td>customer1</td>\n",
       "      <td>2019-03-02 02:44:20+00:00</td>\n",
       "      <td>100.0</td>\n",
       "    </tr>\n",
       "    <tr>\n",
       "      <th>4</th>\n",
       "      <td>customer1</td>\n",
       "      <td>2019-03-02 18:28:39+00:00</td>\n",
       "      <td>25.0</td>\n",
       "    </tr>\n",
       "  </tbody>\n",
       "</table>\n",
       "</div>"
      ],
      "text/plain": [
       "        user                    timest  amount\n",
       "0  customer1 2019-03-01 17:24:43+00:00    30.0\n",
       "1  customer1 2019-03-01 19:54:04+00:00    50.0\n",
       "2  customer1 2019-03-01 22:44:15+00:00    40.0\n",
       "3  customer1 2019-03-02 02:44:20+00:00   100.0\n",
       "4  customer1 2019-03-02 18:28:39+00:00    25.0"
      ]
     },
     "execution_count": 60,
     "metadata": {},
     "output_type": "execute_result"
    }
   ],
   "source": [
    "casino.head()"
   ]
  },
  {
   "cell_type": "code",
   "execution_count": 12,
   "metadata": {},
   "outputs": [],
   "source": [
    "top_20_freq = casino.groupby(\"AccountIdentifier\").count().reset_index().iloc[:,0:2].sort_values(\"ReqTimeUTC\")[::-1][0:20]\n",
    "top_20_spenders = casino[[\"AccountIdentifier\", \"TransactionAmount\"]].groupby(\"AccountIdentifier\").sum().reset_index().sort_values(\"TransactionAmount\")[::-1][0:20]\n",
    "# top_20_spenders"
   ]
  },
  {
   "cell_type": "code",
   "execution_count": 13,
   "metadata": {},
   "outputs": [
    {
     "data": {
      "text/plain": [
       "<Axes: xlabel='TransactionAmount', ylabel='AccountIdentifier'>"
      ]
     },
     "execution_count": 13,
     "metadata": {},
     "output_type": "execute_result"
    },
    {
     "data": {
      "image/png": "[encoded data removed]",
      "text/plain": [
       "<Figure size 1500x500 with 2 Axes>"
      ]
     },
     "metadata": {},
     "output_type": "display_data"
    }
   ],
   "source": [
    "fig, ax = plt.subplots(ncols = 2, figsize=(15, 5))\n",
    "\n",
    "sns.barplot(top_20_freq, x = 'ReqTimeUTC', y = 'AccountIdentifier', ax = ax[0])\n",
    "sns.barplot(top_20_spenders, x =\"TransactionAmount\", y = \"AccountIdentifier\", ax = ax[1])"
   ]
  },
  {
   "cell_type": "code",
   "execution_count": 14,
   "metadata": {},
   "outputs": [
    {
     "data": {
      "text/html": [
       "<div>\n",
       "<style scoped>\n",
       "    .dataframe tbody tr th:only-of-type {\n",
       "        vertical-align: middle;\n",
       "    }\n",
       "\n",
       "    .dataframe tbody tr th {\n",
       "        vertical-align: top;\n",
       "    }\n",
       "\n",
       "    .dataframe thead th {\n",
       "        text-align: right;\n",
       "    }\n",
       "</style>\n",
       "<table border=\"1\" class=\"dataframe\">\n",
       "  <thead>\n",
       "    <tr style=\"text-align: right;\">\n",
       "      <th></th>\n",
       "      <th>ReqTimeUTC</th>\n",
       "      <th>TransactionType</th>\n",
       "      <th>TransactionAmount</th>\n",
       "      <th>Status</th>\n",
       "      <th>AccountIdentifier</th>\n",
       "      <th>hour</th>\n",
       "      <th>day_of_week</th>\n",
       "    </tr>\n",
       "  </thead>\n",
       "  <tbody>\n",
       "    <tr>\n",
       "      <th>0</th>\n",
       "      <td>2019-07-05 05:02:28+00:00</td>\n",
       "      <td>L2D</td>\n",
       "      <td>10.0</td>\n",
       "      <td>APPROVED</td>\n",
       "      <td>customer1734</td>\n",
       "      <td>5</td>\n",
       "      <td>5_Friday</td>\n",
       "    </tr>\n",
       "    <tr>\n",
       "      <th>1</th>\n",
       "      <td>2019-07-05 05:26:00+00:00</td>\n",
       "      <td>L2D</td>\n",
       "      <td>10.0</td>\n",
       "      <td>APPROVED</td>\n",
       "      <td>customer1734</td>\n",
       "      <td>5</td>\n",
       "      <td>5_Friday</td>\n",
       "    </tr>\n",
       "    <tr>\n",
       "      <th>2</th>\n",
       "      <td>2019-07-05 04:54:37+00:00</td>\n",
       "      <td>L2D</td>\n",
       "      <td>10.0</td>\n",
       "      <td>APPROVED</td>\n",
       "      <td>customer1734</td>\n",
       "      <td>4</td>\n",
       "      <td>5_Friday</td>\n",
       "    </tr>\n",
       "    <tr>\n",
       "      <th>3</th>\n",
       "      <td>2020-02-02 06:50:37+00:00</td>\n",
       "      <td>L2D</td>\n",
       "      <td>50.0</td>\n",
       "      <td>APPROVED</td>\n",
       "      <td>customer935</td>\n",
       "      <td>6</td>\n",
       "      <td>7_Sunday</td>\n",
       "    </tr>\n",
       "    <tr>\n",
       "      <th>4</th>\n",
       "      <td>2019-12-13 12:29:32+00:00</td>\n",
       "      <td>L2D</td>\n",
       "      <td>100.0</td>\n",
       "      <td>APPROVED</td>\n",
       "      <td>customer935</td>\n",
       "      <td>12</td>\n",
       "      <td>5_Friday</td>\n",
       "    </tr>\n",
       "    <tr>\n",
       "      <th>...</th>\n",
       "      <td>...</td>\n",
       "      <td>...</td>\n",
       "      <td>...</td>\n",
       "      <td>...</td>\n",
       "      <td>...</td>\n",
       "      <td>...</td>\n",
       "      <td>...</td>\n",
       "    </tr>\n",
       "    <tr>\n",
       "      <th>69729</th>\n",
       "      <td>2020-02-12 10:54:47+00:00</td>\n",
       "      <td>L2D</td>\n",
       "      <td>10.0</td>\n",
       "      <td>APPROVED</td>\n",
       "      <td>customer1576</td>\n",
       "      <td>10</td>\n",
       "      <td>3_Wednesday</td>\n",
       "    </tr>\n",
       "    <tr>\n",
       "      <th>69730</th>\n",
       "      <td>2019-08-24 21:32:43+00:00</td>\n",
       "      <td>L2D</td>\n",
       "      <td>10.0</td>\n",
       "      <td>APPROVED</td>\n",
       "      <td>customer1874</td>\n",
       "      <td>21</td>\n",
       "      <td>6_Saturday</td>\n",
       "    </tr>\n",
       "    <tr>\n",
       "      <th>69731</th>\n",
       "      <td>2019-11-01 06:51:07+00:00</td>\n",
       "      <td>L2D</td>\n",
       "      <td>30.0</td>\n",
       "      <td>APPROVED</td>\n",
       "      <td>customer1994</td>\n",
       "      <td>6</td>\n",
       "      <td>5_Friday</td>\n",
       "    </tr>\n",
       "    <tr>\n",
       "      <th>69732</th>\n",
       "      <td>2019-05-23 20:02:49+00:00</td>\n",
       "      <td>L2D</td>\n",
       "      <td>10.0</td>\n",
       "      <td>APPROVED</td>\n",
       "      <td>customer2215</td>\n",
       "      <td>20</td>\n",
       "      <td>4_Thursday</td>\n",
       "    </tr>\n",
       "    <tr>\n",
       "      <th>69733</th>\n",
       "      <td>2019-07-11 23:01:09+00:00</td>\n",
       "      <td>L2D</td>\n",
       "      <td>10.0</td>\n",
       "      <td>APPROVED</td>\n",
       "      <td>customer2215</td>\n",
       "      <td>23</td>\n",
       "      <td>4_Thursday</td>\n",
       "    </tr>\n",
       "  </tbody>\n",
       "</table>\n",
       "<p>69734 rows × 7 columns</p>\n",
       "</div>"
      ],
      "text/plain": [
       "                     ReqTimeUTC TransactionType  TransactionAmount    Status  \\\n",
       "0     2019-07-05 05:02:28+00:00             L2D               10.0  APPROVED   \n",
       "1     2019-07-05 05:26:00+00:00             L2D               10.0  APPROVED   \n",
       "2     2019-07-05 04:54:37+00:00             L2D               10.0  APPROVED   \n",
       "3     2020-02-02 06:50:37+00:00             L2D               50.0  APPROVED   \n",
       "4     2019-12-13 12:29:32+00:00             L2D              100.0  APPROVED   \n",
       "...                         ...             ...                ...       ...   \n",
       "69729 2020-02-12 10:54:47+00:00             L2D               10.0  APPROVED   \n",
       "69730 2019-08-24 21:32:43+00:00             L2D               10.0  APPROVED   \n",
       "69731 2019-11-01 06:51:07+00:00             L2D               30.0  APPROVED   \n",
       "69732 2019-05-23 20:02:49+00:00             L2D               10.0  APPROVED   \n",
       "69733 2019-07-11 23:01:09+00:00             L2D               10.0  APPROVED   \n",
       "\n",
       "      AccountIdentifier  hour  day_of_week  \n",
       "0          customer1734     5     5_Friday  \n",
       "1          customer1734     5     5_Friday  \n",
       "2          customer1734     4     5_Friday  \n",
       "3           customer935     6     7_Sunday  \n",
       "4           customer935    12     5_Friday  \n",
       "...                 ...   ...          ...  \n",
       "69729      customer1576    10  3_Wednesday  \n",
       "69730      customer1874    21   6_Saturday  \n",
       "69731      customer1994     6     5_Friday  \n",
       "69732      customer2215    20   4_Thursday  \n",
       "69733      customer2215    23   4_Thursday  \n",
       "\n",
       "[69734 rows x 7 columns]"
      ]
     },
     "execution_count": 14,
     "metadata": {},
     "output_type": "execute_result"
    }
   ],
   "source": [
    "casino[\"hour\"] = casino.ReqTimeUTC.dt.hour\n",
    "casino[\"day_of_week\"] = casino.ReqTimeUTC.dt.day_of_week\n",
    "day_of_week_dict = {0: \"1_Monday\", 1:\"2_Tuesday\", 2:\"3_Wednesday\", 3:\"4_Thursday\", 4:\"5_Friday\", 5:\"6_Saturday\", 6:\"7_Sunday\"}\n",
    "casino[\"day_of_week\"] = casino[\"day_of_week\"].map(day_of_week_dict)\n",
    "casino"
   ]
  },
  {
   "cell_type": "code",
   "execution_count": 15,
   "metadata": {},
   "outputs": [
    {
     "data": {
      "text/plain": [
       "<Axes: xlabel='hour', ylabel='day_of_week'>"
      ]
     },
     "execution_count": 15,
     "metadata": {},
     "output_type": "execute_result"
    },
    {
     "data": {
      "image/png": "[encoded data removed]",
      "text/plain": [
       "<Figure size 640x480 with 2 Axes>"
      ]
     },
     "metadata": {},
     "output_type": "display_data"
    }
   ],
   "source": [
    "h_d_g = casino[[\"hour\", \"day_of_week\", \"TransactionType\"]].groupby([\"hour\", \"day_of_week\"]).count().reset_index()\n",
    "casino_hm = pd.pivot_table(h_d_g, values=\"TransactionType\", index=\"day_of_week\", columns=\"hour\")\n",
    "sns.heatmap(casino_hm)"
   ]
  },
  {
   "cell_type": "code",
   "execution_count": 16,
   "metadata": {},
   "outputs": [
    {
     "data": {
      "text/html": [
       "<div>\n",
       "<style scoped>\n",
       "    .dataframe tbody tr th:only-of-type {\n",
       "        vertical-align: middle;\n",
       "    }\n",
       "\n",
       "    .dataframe tbody tr th {\n",
       "        vertical-align: top;\n",
       "    }\n",
       "\n",
       "    .dataframe thead th {\n",
       "        text-align: right;\n",
       "    }\n",
       "</style>\n",
       "<table border=\"1\" class=\"dataframe\">\n",
       "  <thead>\n",
       "    <tr style=\"text-align: right;\">\n",
       "      <th></th>\n",
       "      <th>AccountIdentifier</th>\n",
       "      <th>ReqDateUTC</th>\n",
       "      <th>TransactionAmount</th>\n",
       "      <th>TransactionType</th>\n",
       "    </tr>\n",
       "  </thead>\n",
       "  <tbody>\n",
       "    <tr>\n",
       "      <th>0</th>\n",
       "      <td>customer1</td>\n",
       "      <td>2019-03-01 00:00:00+00:00</td>\n",
       "      <td>120.0</td>\n",
       "      <td>3</td>\n",
       "    </tr>\n",
       "    <tr>\n",
       "      <th>1</th>\n",
       "      <td>customer1</td>\n",
       "      <td>2019-03-02 00:00:00+00:00</td>\n",
       "      <td>125.0</td>\n",
       "      <td>2</td>\n",
       "    </tr>\n",
       "    <tr>\n",
       "      <th>2</th>\n",
       "      <td>customer1</td>\n",
       "      <td>2019-03-03 00:00:00+00:00</td>\n",
       "      <td>200.0</td>\n",
       "      <td>2</td>\n",
       "    </tr>\n",
       "    <tr>\n",
       "      <th>3</th>\n",
       "      <td>customer1</td>\n",
       "      <td>2019-03-04 00:00:00+00:00</td>\n",
       "      <td>160.0</td>\n",
       "      <td>3</td>\n",
       "    </tr>\n",
       "    <tr>\n",
       "      <th>4</th>\n",
       "      <td>customer1</td>\n",
       "      <td>2019-03-05 00:00:00+00:00</td>\n",
       "      <td>240.0</td>\n",
       "      <td>3</td>\n",
       "    </tr>\n",
       "    <tr>\n",
       "      <th>...</th>\n",
       "      <td>...</td>\n",
       "      <td>...</td>\n",
       "      <td>...</td>\n",
       "      <td>...</td>\n",
       "    </tr>\n",
       "    <tr>\n",
       "      <th>28600</th>\n",
       "      <td>customer996</td>\n",
       "      <td>2019-03-14 00:00:00+00:00</td>\n",
       "      <td>25.0</td>\n",
       "      <td>1</td>\n",
       "    </tr>\n",
       "    <tr>\n",
       "      <th>28601</th>\n",
       "      <td>customer996</td>\n",
       "      <td>2019-09-13 00:00:00+00:00</td>\n",
       "      <td>25.0</td>\n",
       "      <td>2</td>\n",
       "    </tr>\n",
       "    <tr>\n",
       "      <th>28602</th>\n",
       "      <td>customer997</td>\n",
       "      <td>2019-09-22 00:00:00+00:00</td>\n",
       "      <td>50.0</td>\n",
       "      <td>1</td>\n",
       "    </tr>\n",
       "    <tr>\n",
       "      <th>28603</th>\n",
       "      <td>customer998</td>\n",
       "      <td>2019-11-09 00:00:00+00:00</td>\n",
       "      <td>50.0</td>\n",
       "      <td>2</td>\n",
       "    </tr>\n",
       "    <tr>\n",
       "      <th>28604</th>\n",
       "      <td>customer999</td>\n",
       "      <td>2019-03-20 00:00:00+00:00</td>\n",
       "      <td>750.0</td>\n",
       "      <td>2</td>\n",
       "    </tr>\n",
       "  </tbody>\n",
       "</table>\n",
       "<p>28605 rows × 4 columns</p>\n",
       "</div>"
      ],
      "text/plain": [
       "      AccountIdentifier                ReqDateUTC  TransactionAmount  \\\n",
       "0             customer1 2019-03-01 00:00:00+00:00              120.0   \n",
       "1             customer1 2019-03-02 00:00:00+00:00              125.0   \n",
       "2             customer1 2019-03-03 00:00:00+00:00              200.0   \n",
       "3             customer1 2019-03-04 00:00:00+00:00              160.0   \n",
       "4             customer1 2019-03-05 00:00:00+00:00              240.0   \n",
       "...                 ...                       ...                ...   \n",
       "28600       customer996 2019-03-14 00:00:00+00:00               25.0   \n",
       "28601       customer996 2019-09-13 00:00:00+00:00               25.0   \n",
       "28602       customer997 2019-09-22 00:00:00+00:00               50.0   \n",
       "28603       customer998 2019-11-09 00:00:00+00:00               50.0   \n",
       "28604       customer999 2019-03-20 00:00:00+00:00              750.0   \n",
       "\n",
       "       TransactionType  \n",
       "0                    3  \n",
       "1                    2  \n",
       "2                    2  \n",
       "3                    3  \n",
       "4                    3  \n",
       "...                ...  \n",
       "28600                1  \n",
       "28601                2  \n",
       "28602                1  \n",
       "28603                2  \n",
       "28604                2  \n",
       "\n",
       "[28605 rows x 4 columns]"
      ]
     },
     "execution_count": 16,
     "metadata": {},
     "output_type": "execute_result"
    }
   ],
   "source": [
    "# casino[\"ReqDateUTC\"] = casino.ReqTimeUTC.dt.to_period('D')\n",
    "casino[\"ReqDateUTC\"] = casino.ReqTimeUTC.dt.floor('D')\n",
    "\n",
    "daily_activity = casino.groupby([\"AccountIdentifier\", \"ReqDateUTC\"]).agg({'TransactionAmount': 'sum', 'TransactionType':'count'})\\\n",
    "    .reset_index()\n",
    "\n",
    "daily_activity"
   ]
  },
  {
   "cell_type": "code",
   "execution_count": 17,
   "metadata": {},
   "outputs": [
    {
     "data": {
      "text/plain": [
       "<Axes: xlabel='ReqDateUTC', ylabel='TransactionAmount'>"
      ]
     },
     "execution_count": 17,
     "metadata": {},
     "output_type": "execute_result"
    },
    {
     "data": {
      "image/png": "[encoded data removed]",
      "text/plain": [
       "<Figure size 640x480 with 1 Axes>"
      ]
     },
     "metadata": {},
     "output_type": "display_data"
    }
   ],
   "source": [
    "c1 = daily_activity[daily_activity.AccountIdentifier==\"customer1\"][0:20]\n",
    "sns.lineplot(c1, x=\"ReqDateUTC\", y=\"TransactionAmount\")"
   ]
  },
  {
   "cell_type": "code",
   "execution_count": 19,
   "metadata": {},
   "outputs": [],
   "source": [
    "full_customer_df = pd.DataFrame()\n",
    "\n",
    "for customer_id in daily_activity.AccountIdentifier.unique():\n",
    "    customer_df = daily_activity[daily_activity.AccountIdentifier == customer_id]\n",
    "\n",
    "    full_range = pd.date_range(customer_df.ReqDateUTC.min(), customer_df.ReqDateUTC.max(), freq=\"D\")\n",
    "\n",
    "    customer_df = customer_df.set_index(keys = \"ReqDateUTC\")\n",
    "\n",
    "    customer_df = customer_df.reindex(list(full_range), fill_value=0)\n",
    "    customer_df.AccountIdentifier = [customer_id]*len(customer_df)\n",
    "    \n",
    "    customer_df = customer_df.reset_index()\n",
    "    full_customer_df = pd.concat([full_customer_df, customer_df])\n",
    "\n",
    "full_customer_df = full_customer_df.reset_index(drop=True)"
   ]
  },
  {
   "cell_type": "code",
   "execution_count": 20,
   "metadata": {},
   "outputs": [
    {
     "data": {
      "text/html": [
       "<div>\n",
       "<style scoped>\n",
       "    .dataframe tbody tr th:only-of-type {\n",
       "        vertical-align: middle;\n",
       "    }\n",
       "\n",
       "    .dataframe tbody tr th {\n",
       "        vertical-align: top;\n",
       "    }\n",
       "\n",
       "    .dataframe thead th {\n",
       "        text-align: right;\n",
       "    }\n",
       "</style>\n",
       "<table border=\"1\" class=\"dataframe\">\n",
       "  <thead>\n",
       "    <tr style=\"text-align: right;\">\n",
       "      <th></th>\n",
       "      <th>ReqDateUTC</th>\n",
       "      <th>AccountIdentifier</th>\n",
       "      <th>TransactionAmount</th>\n",
       "      <th>TransactionType</th>\n",
       "    </tr>\n",
       "  </thead>\n",
       "  <tbody>\n",
       "    <tr>\n",
       "      <th>0</th>\n",
       "      <td>2019-03-01 00:00:00+00:00</td>\n",
       "      <td>customer1</td>\n",
       "      <td>120.0</td>\n",
       "      <td>3</td>\n",
       "    </tr>\n",
       "    <tr>\n",
       "      <th>1</th>\n",
       "      <td>2019-03-02 00:00:00+00:00</td>\n",
       "      <td>customer1</td>\n",
       "      <td>125.0</td>\n",
       "      <td>2</td>\n",
       "    </tr>\n",
       "    <tr>\n",
       "      <th>2</th>\n",
       "      <td>2019-03-03 00:00:00+00:00</td>\n",
       "      <td>customer1</td>\n",
       "      <td>200.0</td>\n",
       "      <td>2</td>\n",
       "    </tr>\n",
       "    <tr>\n",
       "      <th>3</th>\n",
       "      <td>2019-03-04 00:00:00+00:00</td>\n",
       "      <td>customer1</td>\n",
       "      <td>160.0</td>\n",
       "      <td>3</td>\n",
       "    </tr>\n",
       "    <tr>\n",
       "      <th>4</th>\n",
       "      <td>2019-03-05 00:00:00+00:00</td>\n",
       "      <td>customer1</td>\n",
       "      <td>240.0</td>\n",
       "      <td>3</td>\n",
       "    </tr>\n",
       "    <tr>\n",
       "      <th>...</th>\n",
       "      <td>...</td>\n",
       "      <td>...</td>\n",
       "      <td>...</td>\n",
       "      <td>...</td>\n",
       "    </tr>\n",
       "    <tr>\n",
       "      <th>164651</th>\n",
       "      <td>2019-09-12 00:00:00+00:00</td>\n",
       "      <td>customer996</td>\n",
       "      <td>0.0</td>\n",
       "      <td>0</td>\n",
       "    </tr>\n",
       "    <tr>\n",
       "      <th>164652</th>\n",
       "      <td>2019-09-13 00:00:00+00:00</td>\n",
       "      <td>customer996</td>\n",
       "      <td>25.0</td>\n",
       "      <td>2</td>\n",
       "    </tr>\n",
       "    <tr>\n",
       "      <th>164653</th>\n",
       "      <td>2019-09-22 00:00:00+00:00</td>\n",
       "      <td>customer997</td>\n",
       "      <td>50.0</td>\n",
       "      <td>1</td>\n",
       "    </tr>\n",
       "    <tr>\n",
       "      <th>164654</th>\n",
       "      <td>2019-11-09 00:00:00+00:00</td>\n",
       "      <td>customer998</td>\n",
       "      <td>50.0</td>\n",
       "      <td>2</td>\n",
       "    </tr>\n",
       "    <tr>\n",
       "      <th>164655</th>\n",
       "      <td>2019-03-20 00:00:00+00:00</td>\n",
       "      <td>customer999</td>\n",
       "      <td>750.0</td>\n",
       "      <td>2</td>\n",
       "    </tr>\n",
       "  </tbody>\n",
       "</table>\n",
       "<p>164656 rows × 4 columns</p>\n",
       "</div>"
      ],
      "text/plain": [
       "                      ReqDateUTC AccountIdentifier  TransactionAmount  \\\n",
       "0      2019-03-01 00:00:00+00:00         customer1              120.0   \n",
       "1      2019-03-02 00:00:00+00:00         customer1              125.0   \n",
       "2      2019-03-03 00:00:00+00:00         customer1              200.0   \n",
       "3      2019-03-04 00:00:00+00:00         customer1              160.0   \n",
       "4      2019-03-05 00:00:00+00:00         customer1              240.0   \n",
       "...                          ...               ...                ...   \n",
       "164651 2019-09-12 00:00:00+00:00       customer996                0.0   \n",
       "164652 2019-09-13 00:00:00+00:00       customer996               25.0   \n",
       "164653 2019-09-22 00:00:00+00:00       customer997               50.0   \n",
       "164654 2019-11-09 00:00:00+00:00       customer998               50.0   \n",
       "164655 2019-03-20 00:00:00+00:00       customer999              750.0   \n",
       "\n",
       "        TransactionType  \n",
       "0                     3  \n",
       "1                     2  \n",
       "2                     2  \n",
       "3                     3  \n",
       "4                     3  \n",
       "...                 ...  \n",
       "164651                0  \n",
       "164652                2  \n",
       "164653                1  \n",
       "164654                2  \n",
       "164655                2  \n",
       "\n",
       "[164656 rows x 4 columns]"
      ]
     },
     "execution_count": 20,
     "metadata": {},
     "output_type": "execute_result"
    }
   ],
   "source": [
    "full_customer_df"
   ]
  },
  {
   "cell_type": "code",
   "execution_count": 21,
   "metadata": {},
   "outputs": [
    {
     "name": "stderr",
     "output_type": "stream",
     "text": [
      "C:\\Users\\user\\AppData\\Local\\Temp\\ipykernel_9816\\766865895.py:1: UserWarning: Converting to PeriodArray/Index representation will drop timezone information.\n",
      "  full_customer_df[\"month\"] = full_customer_df.ReqDateUTC.dt.to_period(\"M\")\n"
     ]
    }
   ],
   "source": [
    "full_customer_df[\"month\"] = full_customer_df.ReqDateUTC.dt.to_period(\"M\")\n",
    "\n",
    "customer_month = full_customer_df.groupby([\"month\", \"AccountIdentifier\"]).count().reset_index().iloc[:,:2]\n",
    "\n",
    "start_ = customer_month.groupby(\"AccountIdentifier\").min().reset_index()\n",
    "end_ = customer_month.groupby(\"AccountIdentifier\").max().reset_index()\n",
    "\n",
    "start_end_df = pd.merge(start_, end_ , on = \"AccountIdentifier\")\n",
    "start_end_df\n",
    "\n",
    "source_target_value = start_end_df.groupby([\"month_x\", \"month_y\"]).count().reset_index()"
   ]
  },
  {
   "cell_type": "code",
   "execution_count": 22,
   "metadata": {},
   "outputs": [
    {
     "data": {
      "text/html": [
       "<div>\n",
       "<style scoped>\n",
       "    .dataframe tbody tr th:only-of-type {\n",
       "        vertical-align: middle;\n",
       "    }\n",
       "\n",
       "    .dataframe tbody tr th {\n",
       "        vertical-align: top;\n",
       "    }\n",
       "\n",
       "    .dataframe thead th {\n",
       "        text-align: right;\n",
       "    }\n",
       "</style>\n",
       "<table border=\"1\" class=\"dataframe\">\n",
       "  <thead>\n",
       "    <tr style=\"text-align: right;\">\n",
       "      <th></th>\n",
       "      <th>month_x</th>\n",
       "      <th>month_y</th>\n",
       "      <th>AccountIdentifier</th>\n",
       "    </tr>\n",
       "  </thead>\n",
       "  <tbody>\n",
       "    <tr>\n",
       "      <th>0</th>\n",
       "      <td>2019-03</td>\n",
       "      <td>2019-03</td>\n",
       "      <td>276</td>\n",
       "    </tr>\n",
       "    <tr>\n",
       "      <th>1</th>\n",
       "      <td>2019-03</td>\n",
       "      <td>2019-04</td>\n",
       "      <td>58</td>\n",
       "    </tr>\n",
       "    <tr>\n",
       "      <th>2</th>\n",
       "      <td>2019-03</td>\n",
       "      <td>2019-05</td>\n",
       "      <td>49</td>\n",
       "    </tr>\n",
       "    <tr>\n",
       "      <th>3</th>\n",
       "      <td>2019-03</td>\n",
       "      <td>2019-06</td>\n",
       "      <td>33</td>\n",
       "    </tr>\n",
       "    <tr>\n",
       "      <th>4</th>\n",
       "      <td>2019-03</td>\n",
       "      <td>2019-07</td>\n",
       "      <td>27</td>\n",
       "    </tr>\n",
       "    <tr>\n",
       "      <th>...</th>\n",
       "      <td>...</td>\n",
       "      <td>...</td>\n",
       "      <td>...</td>\n",
       "    </tr>\n",
       "    <tr>\n",
       "      <th>73</th>\n",
       "      <td>2019-12</td>\n",
       "      <td>2020-01</td>\n",
       "      <td>17</td>\n",
       "    </tr>\n",
       "    <tr>\n",
       "      <th>74</th>\n",
       "      <td>2019-12</td>\n",
       "      <td>2020-02</td>\n",
       "      <td>30</td>\n",
       "    </tr>\n",
       "    <tr>\n",
       "      <th>75</th>\n",
       "      <td>2020-01</td>\n",
       "      <td>2020-01</td>\n",
       "      <td>134</td>\n",
       "    </tr>\n",
       "    <tr>\n",
       "      <th>76</th>\n",
       "      <td>2020-01</td>\n",
       "      <td>2020-02</td>\n",
       "      <td>38</td>\n",
       "    </tr>\n",
       "    <tr>\n",
       "      <th>77</th>\n",
       "      <td>2020-02</td>\n",
       "      <td>2020-02</td>\n",
       "      <td>123</td>\n",
       "    </tr>\n",
       "  </tbody>\n",
       "</table>\n",
       "<p>78 rows × 3 columns</p>\n",
       "</div>"
      ],
      "text/plain": [
       "    month_x  month_y  AccountIdentifier\n",
       "0   2019-03  2019-03                276\n",
       "1   2019-03  2019-04                 58\n",
       "2   2019-03  2019-05                 49\n",
       "3   2019-03  2019-06                 33\n",
       "4   2019-03  2019-07                 27\n",
       "..      ...      ...                ...\n",
       "73  2019-12  2020-01                 17\n",
       "74  2019-12  2020-02                 30\n",
       "75  2020-01  2020-01                134\n",
       "76  2020-01  2020-02                 38\n",
       "77  2020-02  2020-02                123\n",
       "\n",
       "[78 rows x 3 columns]"
      ]
     },
     "execution_count": 22,
     "metadata": {},
     "output_type": "execute_result"
    }
   ],
   "source": [
    "source_target_value"
   ]
  },
  {
   "cell_type": "code",
   "execution_count": 23,
   "metadata": {},
   "outputs": [
    {
     "data": {
      "text/plain": [
       "array([ 0,  1,  2,  3,  4,  5,  6,  7,  8,  9, 10, 11])"
      ]
     },
     "execution_count": 23,
     "metadata": {},
     "output_type": "execute_result"
    }
   ],
   "source": [
    "\n",
    "le = LabelEncoder()\n",
    "le.fit_transform(source_target_value.month_x.unique())"
   ]
  },
  {
   "cell_type": "code",
   "execution_count": 47,
   "metadata": {},
   "outputs": [
    {
     "data": {
      "application/vnd.plotly.v1+json": {
       "config": {
        "plotlyServerURL": "https://plot.ly"
       },
       "data": [
        {
         "link": {
          "hovercolor": [
           "black"
          ],
          "source": [
           0,
           0,
           0,
           0,
           0,
           0,
           0,
           0,
           0,
           0,
           0,
           1,
           1,
           1,
           1,
           1,
           1,
           1,
           1,
           1,
           1,
           2,
           2,
           2,
           2,
           2,
           2,
           2,
           2,
           2,
           3,
           3,
           3,
           3,
           3,
           3,
           3,
           3,
           4,
           4,
           4,
           4,
           4,
           4,
           4,
           5,
           5,
           5,
           5,
           5,
           5,
           6,
           6,
           6,
           6,
           6,
           7,
           7,
           7,
           7,
           8,
           8,
           8,
           9,
           9,
           10
          ],
          "target": [
           1,
           2,
           3,
           4,
           5,
           6,
           7,
           8,
           9,
           10,
           11,
           2,
           3,
           4,
           5,
           6,
           7,
           8,
           9,
           10,
           11,
           3,
           4,
           5,
           6,
           7,
           8,
           9,
           10,
           11,
           4,
           5,
           6,
           7,
           8,
           9,
           10,
           11,
           5,
           6,
           7,
           8,
           9,
           10,
           11,
           6,
           7,
           8,
           9,
           10,
           11,
           7,
           8,
           9,
           10,
           11,
           8,
           9,
           10,
           11,
           9,
           10,
           11,
           10,
           11,
           11
          ],
          "value": [
           58,
           49,
           33,
           27,
           29,
           21,
           25,
           24,
           32,
           28,
           141,
           20,
           16,
           13,
           10,
           9,
           7,
           6,
           10,
           7,
           15,
           16,
           6,
           4,
           8,
           4,
           6,
           3,
           5,
           20,
           18,
           5,
           4,
           5,
           3,
           6,
           3,
           18,
           8,
           6,
           9,
           2,
           4,
           2,
           13,
           9,
           5,
           6,
           3,
           4,
           15,
           11,
           5,
           6,
           4,
           10,
           9,
           2,
           10,
           22,
           18,
           6,
           22,
           17,
           30,
           38
          ]
         },
         "node": {
          "color": "orange",
          "label": [
           "Mar",
           "Apr",
           "May",
           "Jun",
           "Jul",
           "Aug",
           "Sep",
           "Oct",
           "Nov",
           "Dec",
           "Jan",
           "Feb"
          ],
          "line": {
           "color": "gray",
           "width": 0.5
          },
          "pad": 100,
          "thickness": 10
         },
         "type": "sankey"
        }
       ],
       "layout": {
        "font": {
         "size": 10
        },
        "template": {
         "data": {
          "bar": [
           {
            "error_x": {
             "color": "#2a3f5f"
            },
            "error_y": {
             "color": "#2a3f5f"
            },
            "marker": {
             "line": {
              "color": "#E5ECF6",
              "width": 0.5
             },
             "pattern": {
              "fillmode": "overlay",
              "size": 10,
              "solidity": 0.2
             }
            },
            "type": "bar"
           }
          ],
          "barpolar": [
           {
            "marker": {
             "line": {
              "color": "#E5ECF6",
              "width": 0.5
             },
             "pattern": {
              "fillmode": "overlay",
              "size": 10,
              "solidity": 0.2
             }
            },
            "type": "barpolar"
           }
          ],
          "carpet": [
           {
            "aaxis": {
             "endlinecolor": "#2a3f5f",
             "gridcolor": "white",
             "linecolor": "white",
             "minorgridcolor": "white",
             "startlinecolor": "#2a3f5f"
            },
            "baxis": {
             "endlinecolor": "#2a3f5f",
             "gridcolor": "white",
             "linecolor": "white",
             "minorgridcolor": "white",
             "startlinecolor": "#2a3f5f"
            },
            "type": "carpet"
           }
          ],
          "choropleth": [
           {
            "colorbar": {
             "outlinewidth": 0,
             "ticks": ""
            },
            "type": "choropleth"
           }
          ],
          "contour": [
           {
            "colorbar": {
             "outlinewidth": 0,
             "ticks": ""
            },
            "colorscale": [
             [
              0,
              "#0d0887"
             ],
             [
              0.1111111111111111,
              "#46039f"
             ],
             [
              0.2222222222222222,
              "#7201a8"
             ],
             [
              0.3333333333333333,
              "#9c179e"
             ],
             [
              0.4444444444444444,
              "#bd3786"
             ],
             [
              0.5555555555555556,
              "#d8576b"
             ],
             [
              0.6666666666666666,
              "#ed7953"
             ],
             [
              0.7777777777777778,
              "#fb9f3a"
             ],
             [
              0.8888888888888888,
              "#fdca26"
             ],
             [
              1,
              "#f0f921"
             ]
            ],
            "type": "contour"
           }
          ],
          "contourcarpet": [
           {
            "colorbar": {
             "outlinewidth": 0,
             "ticks": ""
            },
            "type": "contourcarpet"
           }
          ],
          "heatmap": [
           {
            "colorbar": {
             "outlinewidth": 0,
             "ticks": ""
            },
            "colorscale": [
             [
              0,
              "#0d0887"
             ],
             [
              0.1111111111111111,
              "#46039f"
             ],
             [
              0.2222222222222222,
              "#7201a8"
             ],
             [
              0.3333333333333333,
              "#9c179e"
             ],
             [
              0.4444444444444444,
              "#bd3786"
             ],
             [
              0.5555555555555556,
              "#d8576b"
             ],
             [
              0.6666666666666666,
              "#ed7953"
             ],
             [
              0.7777777777777778,
              "#fb9f3a"
             ],
             [
              0.8888888888888888,
              "#fdca26"
             ],
             [
              1,
              "#f0f921"
             ]
            ],
            "type": "heatmap"
           }
          ],
          "heatmapgl": [
           {
            "colorbar": {
             "outlinewidth": 0,
             "ticks": ""
            },
            "colorscale": [
             [
              0,
              "#0d0887"
             ],
             [
              0.1111111111111111,
              "#46039f"
             ],
             [
              0.2222222222222222,
              "#7201a8"
             ],
             [
              0.3333333333333333,
              "#9c179e"
             ],
             [
              0.4444444444444444,
              "#bd3786"
             ],
             [
              0.5555555555555556,
              "#d8576b"
             ],
             [
              0.6666666666666666,
              "#ed7953"
             ],
             [
              0.7777777777777778,
              "#fb9f3a"
             ],
             [
              0.8888888888888888,
              "#fdca26"
             ],
             [
              1,
              "#f0f921"
             ]
            ],
            "type": "heatmapgl"
           }
          ],
          "histogram": [
           {
            "marker": {
             "pattern": {
              "fillmode": "overlay",
              "size": 10,
              "solidity": 0.2
             }
            },
            "type": "histogram"
           }
          ],
          "histogram2d": [
           {
            "colorbar": {
             "outlinewidth": 0,
             "ticks": ""
            },
            "colorscale": [
             [
              0,
              "#0d0887"
             ],
             [
              0.1111111111111111,
              "#46039f"
             ],
             [
              0.2222222222222222,
              "#7201a8"
             ],
             [
              0.3333333333333333,
              "#9c179e"
             ],
             [
              0.4444444444444444,
              "#bd3786"
             ],
             [
              0.5555555555555556,
              "#d8576b"
             ],
             [
              0.6666666666666666,
              "#ed7953"
             ],
             [
              0.7777777777777778,
              "#fb9f3a"
             ],
             [
              0.8888888888888888,
              "#fdca26"
             ],
             [
              1,
              "#f0f921"
             ]
            ],
            "type": "histogram2d"
           }
          ],
          "histogram2dcontour": [
           {
            "colorbar": {
             "outlinewidth": 0,
             "ticks": ""
            },
            "colorscale": [
             [
              0,
              "#0d0887"
             ],
             [
              0.1111111111111111,
              "#46039f"
             ],
             [
              0.2222222222222222,
              "#7201a8"
             ],
             [
              0.3333333333333333,
              "#9c179e"
             ],
             [
              0.4444444444444444,
              "#bd3786"
             ],
             [
              0.5555555555555556,
              "#d8576b"
             ],
             [
              0.6666666666666666,
              "#ed7953"
             ],
             [
              0.7777777777777778,
              "#fb9f3a"
             ],
             [
              0.8888888888888888,
              "#fdca26"
             ],
             [
              1,
              "#f0f921"
             ]
            ],
            "type": "histogram2dcontour"
           }
          ],
          "mesh3d": [
           {
            "colorbar": {
             "outlinewidth": 0,
             "ticks": ""
            },
            "type": "mesh3d"
           }
          ],
          "parcoords": [
           {
            "line": {
             "colorbar": {
              "outlinewidth": 0,
              "ticks": ""
             }
            },
            "type": "parcoords"
           }
          ],
          "pie": [
           {
            "automargin": true,
            "type": "pie"
           }
          ],
          "scatter": [
           {
            "fillpattern": {
             "fillmode": "overlay",
             "size": 10,
             "solidity": 0.2
            },
            "type": "scatter"
           }
          ],
          "scatter3d": [
           {
            "line": {
             "colorbar": {
              "outlinewidth": 0,
              "ticks": ""
             }
            },
            "marker": {
             "colorbar": {
              "outlinewidth": 0,
              "ticks": ""
             }
            },
            "type": "scatter3d"
           }
          ],
          "scattercarpet": [
           {
            "marker": {
             "colorbar": {
              "outlinewidth": 0,
              "ticks": ""
             }
            },
            "type": "scattercarpet"
           }
          ],
          "scattergeo": [
           {
            "marker": {
             "colorbar": {
              "outlinewidth": 0,
              "ticks": ""
             }
            },
            "type": "scattergeo"
           }
          ],
          "scattergl": [
           {
            "marker": {
             "colorbar": {
              "outlinewidth": 0,
              "ticks": ""
             }
            },
            "type": "scattergl"
           }
          ],
          "scattermapbox": [
           {
            "marker": {
             "colorbar": {
              "outlinewidth": 0,
              "ticks": ""
             }
            },
            "type": "scattermapbox"
           }
          ],
          "scatterpolar": [
           {
            "marker": {
             "colorbar": {
              "outlinewidth": 0,
              "ticks": ""
             }
            },
            "type": "scatterpolar"
           }
          ],
          "scatterpolargl": [
           {
            "marker": {
             "colorbar": {
              "outlinewidth": 0,
              "ticks": ""
             }
            },
            "type": "scatterpolargl"
           }
          ],
          "scatterternary": [
           {
            "marker": {
             "colorbar": {
              "outlinewidth": 0,
              "ticks": ""
             }
            },
            "type": "scatterternary"
           }
          ],
          "surface": [
           {
            "colorbar": {
             "outlinewidth": 0,
             "ticks": ""
            },
            "colorscale": [
             [
              0,
              "#0d0887"
             ],
             [
              0.1111111111111111,
              "#46039f"
             ],
             [
              0.2222222222222222,
              "#7201a8"
             ],
             [
              0.3333333333333333,
              "#9c179e"
             ],
             [
              0.4444444444444444,
              "#bd3786"
             ],
             [
              0.5555555555555556,
              "#d8576b"
             ],
             [
              0.6666666666666666,
              "#ed7953"
             ],
             [
              0.7777777777777778,
              "#fb9f3a"
             ],
             [
              0.8888888888888888,
              "#fdca26"
             ],
             [
              1,
              "#f0f921"
             ]
            ],
            "type": "surface"
           }
          ],
          "table": [
           {
            "cells": {
             "fill": {
              "color": "#EBF0F8"
             },
             "line": {
              "color": "white"
             }
            },
            "header": {
             "fill": {
              "color": "#C8D4E3"
             },
             "line": {
              "color": "white"
             }
            },
            "type": "table"
           }
          ]
         },
         "layout": {
          "annotationdefaults": {
           "arrowcolor": "#2a3f5f",
           "arrowhead": 0,
           "arrowwidth": 1
          },
          "autotypenumbers": "strict",
          "coloraxis": {
           "colorbar": {
            "outlinewidth": 0,
            "ticks": ""
           }
          },
          "colorscale": {
           "diverging": [
            [
             0,
             "#8e0152"
            ],
            [
             0.1,
             "#c51b7d"
            ],
            [
             0.2,
             "#de77ae"
            ],
            [
             0.3,
             "#f1b6da"
            ],
            [
             0.4,
             "#fde0ef"
            ],
            [
             0.5,
             "#f7f7f7"
            ],
            [
             0.6,
             "#e6f5d0"
            ],
            [
             0.7,
             "#b8e186"
            ],
            [
             0.8,
             "#7fbc41"
            ],
            [
             0.9,
             "#4d9221"
            ],
            [
             1,
             "#276419"
            ]
           ],
           "sequential": [
            [
             0,
             "#0d0887"
            ],
            [
             0.1111111111111111,
             "#46039f"
            ],
            [
             0.2222222222222222,
             "#7201a8"
            ],
            [
             0.3333333333333333,
             "#9c179e"
            ],
            [
             0.4444444444444444,
             "#bd3786"
            ],
            [
             0.5555555555555556,
             "#d8576b"
            ],
            [
             0.6666666666666666,
             "#ed7953"
            ],
            [
             0.7777777777777778,
             "#fb9f3a"
            ],
            [
             0.8888888888888888,
             "#fdca26"
            ],
            [
             1,
             "#f0f921"
            ]
           ],
           "sequentialminus": [
            [
             0,
             "#0d0887"
            ],
            [
             0.1111111111111111,
             "#46039f"
            ],
            [
             0.2222222222222222,
             "#7201a8"
            ],
            [
             0.3333333333333333,
             "#9c179e"
            ],
            [
             0.4444444444444444,
             "#bd3786"
            ],
            [
             0.5555555555555556,
             "#d8576b"
            ],
            [
             0.6666666666666666,
             "#ed7953"
            ],
            [
             0.7777777777777778,
             "#fb9f3a"
            ],
            [
             0.8888888888888888,
             "#fdca26"
            ],
            [
             1,
             "#f0f921"
            ]
           ]
          },
          "colorway": [
           "#636efa",
           "#EF553B",
           "#00cc96",
           "#ab63fa",
           "#FFA15A",
           "#19d3f3",
           "#FF6692",
           "#B6E880",
           "#FF97FF",
           "#FECB52"
          ],
          "font": {
           "color": "#2a3f5f"
          },
          "geo": {
           "bgcolor": "white",
           "lakecolor": "white",
           "landcolor": "#E5ECF6",
           "showlakes": true,
           "showland": true,
           "subunitcolor": "white"
          },
          "hoverlabel": {
           "align": "left"
          },
          "hovermode": "closest",
          "mapbox": {
           "style": "light"
          },
          "paper_bgcolor": "white",
          "plot_bgcolor": "#E5ECF6",
          "polar": {
           "angularaxis": {
            "gridcolor": "white",
            "linecolor": "white",
            "ticks": ""
           },
           "bgcolor": "#E5ECF6",
           "radialaxis": {
            "gridcolor": "white",
            "linecolor": "white",
            "ticks": ""
           }
          },
          "scene": {
           "xaxis": {
            "backgroundcolor": "#E5ECF6",
            "gridcolor": "white",
            "gridwidth": 2,
            "linecolor": "white",
            "showbackground": true,
            "ticks": "",
            "zerolinecolor": "white"
           },
           "yaxis": {
            "backgroundcolor": "#E5ECF6",
            "gridcolor": "white",
            "gridwidth": 2,
            "linecolor": "white",
            "showbackground": true,
            "ticks": "",
            "zerolinecolor": "white"
           },
           "zaxis": {
            "backgroundcolor": "#E5ECF6",
            "gridcolor": "white",
            "gridwidth": 2,
            "linecolor": "white",
            "showbackground": true,
            "ticks": "",
            "zerolinecolor": "white"
           }
          },
          "shapedefaults": {
           "line": {
            "color": "#2a3f5f"
           }
          },
          "ternary": {
           "aaxis": {
            "gridcolor": "white",
            "linecolor": "white",
            "ticks": ""
           },
           "baxis": {
            "gridcolor": "white",
            "linecolor": "white",
            "ticks": ""
           },
           "bgcolor": "#E5ECF6",
           "caxis": {
            "gridcolor": "white",
            "linecolor": "white",
            "ticks": ""
           }
          },
          "title": {
           "x": 0.05
          },
          "xaxis": {
           "automargin": true,
           "gridcolor": "white",
           "linecolor": "white",
           "ticks": "",
           "title": {
            "standoff": 15
           },
           "zerolinecolor": "white",
           "zerolinewidth": 2
          },
          "yaxis": {
           "automargin": true,
           "gridcolor": "white",
           "linecolor": "white",
           "ticks": "",
           "title": {
            "standoff": 15
           },
           "zerolinecolor": "white",
           "zerolinewidth": 2
          }
         }
        },
        "title": {
         "text": "Customer Lifetime: March 2023 - February 2024"
        }
       }
      }
     },
     "metadata": {},
     "output_type": "display_data"
    }
   ],
   "source": [
    "fig = go.Figure(data=[go.Sankey(\n",
    "    node = dict(\n",
    "      pad = 100,\n",
    "      thickness = 10,\n",
    "      line = dict(color = \"gray\", width = 0.5),\n",
    "      # label = [\"3\", \"4\", \"5\", \"6\",\"7\", \"8\", \"9\", \"10\", \"11\", \"12\", \"1\", \"2\"],\n",
    "      label = [\"Mar\", \"Apr\", \"May\", \"Jun\",\"Jul\",\\\n",
    "        \"Aug\", \"Sep\", \"Oct\", \"Nov\", \"Dec\", \"Jan\", \"Feb\"],\n",
    "      color = \"orange\"\n",
    "    ),\n",
    "    link = dict(\n",
    "      source =le.transform(source_target_value.month_x.tolist()),\n",
    "      target = le.transform(source_target_value.month_y.tolist()),\n",
    "      value = source_target_value.AccountIdentifier.tolist(),\n",
    "      hovercolor=[\"black\"],\n",
    "  ))])\n",
    "\n",
    "fig.update_layout(title_text=\"Customer Lifetime: March 2023 - February 2024\", font_size=10)\n",
    "fig.show()"
   ]
  },
  {
   "cell_type": "code",
   "execution_count": 25,
   "metadata": {},
   "outputs": [],
   "source": [
    "fast_quiter_ = source_target_value[source_target_value.month_x == source_target_value.month_y]\n",
    "source_target_value = source_target_value[source_target_value.month_x != source_target_value.month_y]"
   ]
  },
  {
   "cell_type": "code",
   "execution_count": 26,
   "metadata": {},
   "outputs": [
    {
     "data": {
      "text/html": [
       "<div>\n",
       "<style scoped>\n",
       "    .dataframe tbody tr th:only-of-type {\n",
       "        vertical-align: middle;\n",
       "    }\n",
       "\n",
       "    .dataframe tbody tr th {\n",
       "        vertical-align: top;\n",
       "    }\n",
       "\n",
       "    .dataframe thead th {\n",
       "        text-align: right;\n",
       "    }\n",
       "</style>\n",
       "<table border=\"1\" class=\"dataframe\">\n",
       "  <thead>\n",
       "    <tr style=\"text-align: right;\">\n",
       "      <th></th>\n",
       "      <th>month</th>\n",
       "      <th>AccountIdentifier</th>\n",
       "    </tr>\n",
       "  </thead>\n",
       "  <tbody>\n",
       "    <tr>\n",
       "      <th>0</th>\n",
       "      <td>2019-03</td>\n",
       "      <td>743</td>\n",
       "    </tr>\n",
       "    <tr>\n",
       "      <th>1</th>\n",
       "      <td>2019-04</td>\n",
       "      <td>672</td>\n",
       "    </tr>\n",
       "    <tr>\n",
       "      <th>2</th>\n",
       "      <td>2019-05</td>\n",
       "      <td>699</td>\n",
       "    </tr>\n",
       "    <tr>\n",
       "      <th>3</th>\n",
       "      <td>2019-06</td>\n",
       "      <td>669</td>\n",
       "    </tr>\n",
       "    <tr>\n",
       "      <th>4</th>\n",
       "      <td>2019-07</td>\n",
       "      <td>660</td>\n",
       "    </tr>\n",
       "    <tr>\n",
       "      <th>5</th>\n",
       "      <td>2019-08</td>\n",
       "      <td>624</td>\n",
       "    </tr>\n",
       "    <tr>\n",
       "      <th>6</th>\n",
       "      <td>2019-09</td>\n",
       "      <td>594</td>\n",
       "    </tr>\n",
       "    <tr>\n",
       "      <th>7</th>\n",
       "      <td>2019-10</td>\n",
       "      <td>572</td>\n",
       "    </tr>\n",
       "    <tr>\n",
       "      <th>8</th>\n",
       "      <td>2019-11</td>\n",
       "      <td>555</td>\n",
       "    </tr>\n",
       "    <tr>\n",
       "      <th>9</th>\n",
       "      <td>2019-12</td>\n",
       "      <td>563</td>\n",
       "    </tr>\n",
       "    <tr>\n",
       "      <th>10</th>\n",
       "      <td>2020-01</td>\n",
       "      <td>564</td>\n",
       "    </tr>\n",
       "    <tr>\n",
       "      <th>11</th>\n",
       "      <td>2020-02</td>\n",
       "      <td>467</td>\n",
       "    </tr>\n",
       "  </tbody>\n",
       "</table>\n",
       "</div>"
      ],
      "text/plain": [
       "      month  AccountIdentifier\n",
       "0   2019-03                743\n",
       "1   2019-04                672\n",
       "2   2019-05                699\n",
       "3   2019-06                669\n",
       "4   2019-07                660\n",
       "5   2019-08                624\n",
       "6   2019-09                594\n",
       "7   2019-10                572\n",
       "8   2019-11                555\n",
       "9   2019-12                563\n",
       "10  2020-01                564\n",
       "11  2020-02                467"
      ]
     },
     "execution_count": 26,
     "metadata": {},
     "output_type": "execute_result"
    }
   ],
   "source": [
    "tc_df = customer_month.groupby(\"month\").count().reset_index()\n",
    "tc_df"
   ]
  },
  {
   "cell_type": "code",
   "execution_count": 27,
   "metadata": {},
   "outputs": [
    {
     "data": {
      "text/html": [
       "<div>\n",
       "<style scoped>\n",
       "    .dataframe tbody tr th:only-of-type {\n",
       "        vertical-align: middle;\n",
       "    }\n",
       "\n",
       "    .dataframe tbody tr th {\n",
       "        vertical-align: top;\n",
       "    }\n",
       "\n",
       "    .dataframe thead th {\n",
       "        text-align: right;\n",
       "    }\n",
       "</style>\n",
       "<table border=\"1\" class=\"dataframe\">\n",
       "  <thead>\n",
       "    <tr style=\"text-align: right;\">\n",
       "      <th></th>\n",
       "      <th>month_x</th>\n",
       "      <th>AccountIdentifier</th>\n",
       "    </tr>\n",
       "  </thead>\n",
       "  <tbody>\n",
       "    <tr>\n",
       "      <th>0</th>\n",
       "      <td>2019-03</td>\n",
       "      <td>276</td>\n",
       "    </tr>\n",
       "    <tr>\n",
       "      <th>12</th>\n",
       "      <td>2019-04</td>\n",
       "      <td>92</td>\n",
       "    </tr>\n",
       "    <tr>\n",
       "      <th>23</th>\n",
       "      <td>2019-05</td>\n",
       "      <td>105</td>\n",
       "    </tr>\n",
       "    <tr>\n",
       "      <th>33</th>\n",
       "      <td>2019-06</td>\n",
       "      <td>82</td>\n",
       "    </tr>\n",
       "    <tr>\n",
       "      <th>42</th>\n",
       "      <td>2019-07</td>\n",
       "      <td>94</td>\n",
       "    </tr>\n",
       "    <tr>\n",
       "      <th>50</th>\n",
       "      <td>2019-08</td>\n",
       "      <td>80</td>\n",
       "    </tr>\n",
       "    <tr>\n",
       "      <th>57</th>\n",
       "      <td>2019-09</td>\n",
       "      <td>70</td>\n",
       "    </tr>\n",
       "    <tr>\n",
       "      <th>63</th>\n",
       "      <td>2019-10</td>\n",
       "      <td>62</td>\n",
       "    </tr>\n",
       "    <tr>\n",
       "      <th>68</th>\n",
       "      <td>2019-11</td>\n",
       "      <td>65</td>\n",
       "    </tr>\n",
       "    <tr>\n",
       "      <th>72</th>\n",
       "      <td>2019-12</td>\n",
       "      <td>87</td>\n",
       "    </tr>\n",
       "    <tr>\n",
       "      <th>75</th>\n",
       "      <td>2020-01</td>\n",
       "      <td>134</td>\n",
       "    </tr>\n",
       "    <tr>\n",
       "      <th>77</th>\n",
       "      <td>2020-02</td>\n",
       "      <td>123</td>\n",
       "    </tr>\n",
       "  </tbody>\n",
       "</table>\n",
       "</div>"
      ],
      "text/plain": [
       "    month_x  AccountIdentifier\n",
       "0   2019-03                276\n",
       "12  2019-04                 92\n",
       "23  2019-05                105\n",
       "33  2019-06                 82\n",
       "42  2019-07                 94\n",
       "50  2019-08                 80\n",
       "57  2019-09                 70\n",
       "63  2019-10                 62\n",
       "68  2019-11                 65\n",
       "72  2019-12                 87\n",
       "75  2020-01                134\n",
       "77  2020-02                123"
      ]
     },
     "execution_count": 27,
     "metadata": {},
     "output_type": "execute_result"
    }
   ],
   "source": [
    "fq_df = fast_quiter_[[\"month_x\", \"AccountIdentifier\"]]\n",
    "fq_df"
   ]
  },
  {
   "cell_type": "code",
   "execution_count": 28,
   "metadata": {},
   "outputs": [
    {
     "data": {
      "text/html": [
       "<div>\n",
       "<style scoped>\n",
       "    .dataframe tbody tr th:only-of-type {\n",
       "        vertical-align: middle;\n",
       "    }\n",
       "\n",
       "    .dataframe tbody tr th {\n",
       "        vertical-align: top;\n",
       "    }\n",
       "\n",
       "    .dataframe thead th {\n",
       "        text-align: right;\n",
       "    }\n",
       "</style>\n",
       "<table border=\"1\" class=\"dataframe\">\n",
       "  <thead>\n",
       "    <tr style=\"text-align: right;\">\n",
       "      <th></th>\n",
       "      <th>month</th>\n",
       "      <th>total</th>\n",
       "      <th>quit</th>\n",
       "    </tr>\n",
       "  </thead>\n",
       "  <tbody>\n",
       "    <tr>\n",
       "      <th>0</th>\n",
       "      <td>2019-03</td>\n",
       "      <td>743</td>\n",
       "      <td>276</td>\n",
       "    </tr>\n",
       "    <tr>\n",
       "      <th>1</th>\n",
       "      <td>2019-04</td>\n",
       "      <td>672</td>\n",
       "      <td>92</td>\n",
       "    </tr>\n",
       "    <tr>\n",
       "      <th>2</th>\n",
       "      <td>2019-05</td>\n",
       "      <td>699</td>\n",
       "      <td>105</td>\n",
       "    </tr>\n",
       "    <tr>\n",
       "      <th>3</th>\n",
       "      <td>2019-06</td>\n",
       "      <td>669</td>\n",
       "      <td>82</td>\n",
       "    </tr>\n",
       "    <tr>\n",
       "      <th>4</th>\n",
       "      <td>2019-07</td>\n",
       "      <td>660</td>\n",
       "      <td>94</td>\n",
       "    </tr>\n",
       "    <tr>\n",
       "      <th>5</th>\n",
       "      <td>2019-08</td>\n",
       "      <td>624</td>\n",
       "      <td>80</td>\n",
       "    </tr>\n",
       "    <tr>\n",
       "      <th>6</th>\n",
       "      <td>2019-09</td>\n",
       "      <td>594</td>\n",
       "      <td>70</td>\n",
       "    </tr>\n",
       "    <tr>\n",
       "      <th>7</th>\n",
       "      <td>2019-10</td>\n",
       "      <td>572</td>\n",
       "      <td>62</td>\n",
       "    </tr>\n",
       "    <tr>\n",
       "      <th>8</th>\n",
       "      <td>2019-11</td>\n",
       "      <td>555</td>\n",
       "      <td>65</td>\n",
       "    </tr>\n",
       "    <tr>\n",
       "      <th>9</th>\n",
       "      <td>2019-12</td>\n",
       "      <td>563</td>\n",
       "      <td>87</td>\n",
       "    </tr>\n",
       "    <tr>\n",
       "      <th>10</th>\n",
       "      <td>2020-01</td>\n",
       "      <td>564</td>\n",
       "      <td>134</td>\n",
       "    </tr>\n",
       "    <tr>\n",
       "      <th>11</th>\n",
       "      <td>2020-02</td>\n",
       "      <td>467</td>\n",
       "      <td>123</td>\n",
       "    </tr>\n",
       "  </tbody>\n",
       "</table>\n",
       "</div>"
      ],
      "text/plain": [
       "      month  total  quit\n",
       "0   2019-03    743   276\n",
       "1   2019-04    672    92\n",
       "2   2019-05    699   105\n",
       "3   2019-06    669    82\n",
       "4   2019-07    660    94\n",
       "5   2019-08    624    80\n",
       "6   2019-09    594    70\n",
       "7   2019-10    572    62\n",
       "8   2019-11    555    65\n",
       "9   2019-12    563    87\n",
       "10  2020-01    564   134\n",
       "11  2020-02    467   123"
      ]
     },
     "execution_count": 28,
     "metadata": {},
     "output_type": "execute_result"
    }
   ],
   "source": [
    "q_t = pd.merge(tc_df, fq_df, right_on = \"month_x\", left_on = \"month\")[[\"month\",\"AccountIdentifier_x\", \"AccountIdentifier_y\"]]\n",
    "\n",
    "q_t.rename(columns = {\"month\": \"month\",\"AccountIdentifier_x\":\"total\", \"AccountIdentifier_y\":\"quit\"}, inplace=True)   \n",
    "q_t\n"
   ]
  },
  {
   "cell_type": "code",
   "execution_count": 168,
   "metadata": {},
   "outputs": [
    {
     "data": {
      "text/plain": [
       "<Axes: xlabel='month', ylabel='value'>"
      ]
     },
     "execution_count": 168,
     "metadata": {},
     "output_type": "execute_result"
    },
    {
     "data": {
      "image/png": "[encoded data removed]",
      "text/plain": [
       "<Figure size 1500x500 with 1 Axes>"
      ]
     },
     "metadata": {},
     "output_type": "display_data"
    }
   ],
   "source": [
    "fig, ax = plt.subplots(figsize=(15,5))\n",
    "sns.barplot(q_t.melt(id_vars = [\"month\"]), x = \"month\", y=\"value\", hue = \"variable\")"
   ]
  }
 ],
 "metadata": {
  "kernelspec": {
   "display_name": "gambling_venv",
   "language": "python",
   "name": "gambling_venv"
  },
  "language_info": {
   "codemirror_mode": {
    "name": "ipython",
    "version": 3
   },
   "file_extension": ".py",
   "mimetype": "text/x-python",
   "name": "python",
   "nbconvert_exporter": "python",
   "pygments_lexer": "ipython3",
   "version": "3.12.2"
  }
 },
 "nbformat": 4,
 "nbformat_minor": 2
}
